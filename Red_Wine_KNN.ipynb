{
 "cells": [
  {
   "cell_type": "code",
   "execution_count": 11,
   "id": "59b3d4ff",
   "metadata": {},
   "outputs": [],
   "source": [
    "from pandas import Series, DataFrame\n",
    "import pandas as pd\n",
    "from patsy import dmatrices\n",
    "import warnings\n",
    "warnings.filterwarnings('ignore')\n",
    "%matplotlib inline\n",
    "import matplotlib.pyplot as plt\n",
    "import numpy as np\n",
    "import seaborn as sns\n",
    "from sklearn.model_selection import train_test_split\n",
    "from sklearn.neighbors import KNeighborsClassifier\n",
    "from pandas import Series, DataFrame\n",
    "import pandas as pd\n",
    "from patsy import dmatrices\n",
    "from sklearn.model_selection import train_test_split\n",
    "from sklearn import neighbors, metrics\n",
    "import matplotlib.pyplot as plt\n",
    "import warnings\n",
    "warnings.filterwarnings('ignore')\n",
    "%matplotlib inline"
   ]
  },
  {
   "cell_type": "code",
   "execution_count": 2,
   "id": "26a909e9",
   "metadata": {
    "scrolled": true
   },
   "outputs": [
    {
     "name": "stdout",
     "output_type": "stream",
     "text": [
      "2752\n"
     ]
    }
   ],
   "source": [
    "red_wine = pd.read_csv('RedWineSampleData.csv')\n",
    "red_wine.dropna()\n",
    "\n",
    "rename_columns = {\n",
    "    'fixed acidity': 'fixed_acidity',\n",
    "    'volatile acidity': 'volatile_acidity',\n",
    "    'citric acid': 'citric_acid',\n",
    "    'residual sugar': 'residual_sugar',\n",
    "    'chlorides': 'chlorides',\n",
    "    'free sulfur dioxide': 'free_sulfur_dioxide',\n",
    "    'total sulfur dioxide': 'total_sulfur_dioxide',\n",
    "    'density': 'density',\n",
    "    'pH': 'pH',\n",
    "    'sulphates': 'sulphates',\n",
    "    'alcohol': 'alcohol'\n",
    "}\n",
    "\n",
    "red_wine = red_wine.rename(columns=rename_columns)\n",
    "\n",
    "print(len(red_wine))"
   ]
  },
  {
   "cell_type": "code",
   "execution_count": 3,
   "id": "2b0ab2d8",
   "metadata": {},
   "outputs": [
    {
     "data": {
      "text/plain": [
       "0    1376\n",
       "1    1376\n",
       "Name: target, dtype: int64"
      ]
     },
     "execution_count": 3,
     "metadata": {},
     "output_type": "execute_result"
    }
   ],
   "source": [
    "red_wine['target'] = 0.0\n",
    "\n",
    "red_wine['target'] = (red_wine['quality'] >= 1).astype(int)\n",
    "red_wine['target'].value_counts()"
   ]
  },
  {
   "cell_type": "code",
   "execution_count": 4,
   "id": "dd99535a",
   "metadata": {},
   "outputs": [
    {
     "name": "stdout",
     "output_type": "stream",
     "text": [
      "Design matrix X\n",
      "   fixed_acidity  volatile_acidity  citric_acid  residual_sugar  chlorides  \\\n",
      "0            7.4              0.70         0.00             1.9      0.076   \n",
      "1            7.8              0.88         0.00             2.6      0.098   \n",
      "2            7.8              0.76         0.04             2.3      0.092   \n",
      "3           11.2              0.28         0.56             1.9      0.075   \n",
      "4            7.4              0.70         0.00             1.9      0.076   \n",
      "\n",
      "   free_sulfur_dioxide  total_sulfur_dioxide  density    pH  sulphates  \\\n",
      "0                 11.0                  34.0   0.9978  3.51       0.56   \n",
      "1                 25.0                  67.0   0.9968  3.20       0.68   \n",
      "2                 15.0                  54.0   0.9970  3.26       0.65   \n",
      "3                 17.0                  60.0   0.9980  3.16       0.58   \n",
      "4                 11.0                  34.0   0.9978  3.51       0.56   \n",
      "\n",
      "   alcohol  \n",
      "0      9.4  \n",
      "1      9.8  \n",
      "2      9.8  \n",
      "3      9.8  \n",
      "4      9.4  \n",
      "Outcomes Y\n",
      "   target\n",
      "0     0.0\n",
      "1     0.0\n",
      "2     0.0\n",
      "3     0.0\n",
      "4     0.0\n"
     ]
    }
   ],
   "source": [
    "Y, X = dmatrices('target ~ 0 + fixed_acidity + volatile_acidity + citric_acid'\n",
    "       '+ residual_sugar + chlorides + free_sulfur_dioxide'\n",
    "       '+ total_sulfur_dioxide + density + pH + sulphates+ alcohol',\n",
    "                 red_wine,return_type=\"dataframe\")\n",
    "\n",
    "print('Design matrix X')\n",
    "print(X[:5])\n",
    "print('Outcomes Y')\n",
    "print(Y[:5])"
   ]
  },
  {
   "cell_type": "code",
   "execution_count": 5,
   "id": "58929cf5",
   "metadata": {},
   "outputs": [
    {
     "name": "stdout",
     "output_type": "stream",
     "text": [
      "[0. 0. 1. ... 1. 1. 1.]\n",
      "Predictions = [0. 0. 1. 1. 1.]\n"
     ]
    },
    {
     "data": {
      "text/plain": [
       "array([[0.7, 0.3],\n",
       "       [1. , 0. ],\n",
       "       [0.2, 0.8],\n",
       "       [0. , 1. ],\n",
       "       [0. , 1. ]])"
      ]
     },
     "execution_count": 5,
     "metadata": {},
     "output_type": "execute_result"
    }
   ],
   "source": [
    "y = Y['target'].values\n",
    "print(y[5:])\n",
    "X_train, X_test, y_train, y_test = train_test_split(X, y, test_size=0.3, random_state=1)\n",
    "\n",
    "y_train[:5]\n",
    "red_model = neighbors.KNeighborsClassifier(n_neighbors=10,\n",
    "                                       weights='uniform',\n",
    "                                       p=2)\n",
    "\n",
    "red_model.fit(X_train, y_train)\n",
    "X_train.iloc[0:5]\n",
    "print('Predictions =', red_model.predict(X_train.iloc[0:5]))\n",
    "y_train[0:5]\n",
    "red_model.predict_proba(X_train.iloc[0:5])\n"
   ]
  },
  {
   "cell_type": "code",
   "execution_count": 6,
   "id": "11ee72a6",
   "metadata": {},
   "outputs": [
    {
     "name": "stdout",
     "output_type": "stream",
     "text": [
      "Training accuracy score:  0.877466251298027\n",
      "Test accuracy score:  0.8353510895883777\n"
     ]
    }
   ],
   "source": [
    "prediction_on_training = red_model.predict(X_train)\n",
    "print(\"Training accuracy score: \", metrics.accuracy_score(y_train, prediction_on_training))\n",
    "\n",
    "predicted_classes = red_model.predict(X_test)\n",
    "print(\"Test accuracy score: \", metrics.accuracy_score(y_test, predicted_classes))"
   ]
  },
  {
   "cell_type": "code",
   "execution_count": 7,
   "id": "67b5287e",
   "metadata": {},
   "outputs": [
    {
     "data": {
      "text/plain": [
       "array([0., 0., 1., 1., 1.])"
      ]
     },
     "execution_count": 7,
     "metadata": {},
     "output_type": "execute_result"
    }
   ],
   "source": [
    "red_model.predict_proba(X_train.iloc[0:5])\n",
    "#get scores\n",
    "\n",
    "red_model.predict(X_train.iloc[0:5])\n",
    "#get classes"
   ]
  },
  {
   "cell_type": "code",
   "execution_count": 8,
   "id": "89a3282c",
   "metadata": {},
   "outputs": [
    {
     "name": "stdout",
     "output_type": "stream",
     "text": [
      "[1, 5, 10, 15, 20, 25, 30, 35, 40, 45, 50, 55, 60, 65, 70, 75, 80, 85, 90, 95]\n"
     ]
    }
   ],
   "source": [
    "from sklearn import model_selection\n",
    "\n",
    "def cv_accuracy_score(X, y, nn):\n",
    "    red_model = neighbors.KNeighborsClassifier(n_neighbors=nn,\n",
    "                                           weights='uniform')\n",
    "    accuracies = []\n",
    "    \n",
    "    kfold = model_selection.StratifiedKFold(n_splits=3, shuffle=True).split(X, y)\n",
    "    for train, holdout in kfold:\n",
    "        X_train = X.iloc[train]\n",
    "        X_holdout = X.iloc[holdout]\n",
    "        y_train = y[train]\n",
    "        y_holdout = y[holdout]\n",
    "        red_model.fit(X_train, y_train)\n",
    "        accuracy = metrics.accuracy_score(y_holdout, red_model.predict(X_holdout))\n",
    "        accuracies.append(accuracy)\n",
    "    \n",
    "    average_accuracy = Series(accuracies).mean()\n",
    "    return average_accuracy\n",
    "\n",
    "cv_accuracy_score(X, y, nn=1)\n",
    "nn = [1] + [(x + 1) * 5 for x in range(19)]\n",
    "print(nn)"
   ]
  },
  {
   "cell_type": "code",
   "execution_count": 9,
   "id": "499d6ff8",
   "metadata": {},
   "outputs": [],
   "source": [
    "scores = [cv_accuracy_score(X, y, num_nbrs) for num_nbrs in nn]"
   ]
  },
  {
   "cell_type": "code",
   "execution_count": 10,
   "id": "006cc2a0",
   "metadata": {
    "scrolled": true
   },
   "outputs": [
    {
     "ename": "NameError",
     "evalue": "name 'plot' is not defined",
     "output_type": "error",
     "traceback": [
      "\u001b[1;31m---------------------------------------------------------------------------\u001b[0m",
      "\u001b[1;31mNameError\u001b[0m                                 Traceback (most recent call last)",
      "Cell \u001b[1;32mIn[10], line 1\u001b[0m\n\u001b[1;32m----> 1\u001b[0m \u001b[43mplot\u001b[49m(nn, scores)\n\u001b[0;32m      2\u001b[0m xlabel(\u001b[38;5;124m'\u001b[39m\u001b[38;5;124mNumber of nearest neighbors\u001b[39m\u001b[38;5;124m'\u001b[39m)\n\u001b[0;32m      3\u001b[0m ylabel(\u001b[38;5;124m'\u001b[39m\u001b[38;5;124mAccuracy of classifier\u001b[39m\u001b[38;5;124m'\u001b[39m)\n",
      "\u001b[1;31mNameError\u001b[0m: name 'plot' is not defined"
     ]
    }
   ],
   "source": [
    "plot(nn, scores)\n",
    "xlabel('Number of nearest neighbors')\n",
    "ylabel('Accuracy of classifier')"
   ]
  }
 ],
 "metadata": {
  "kernelspec": {
   "display_name": "Python 3 (ipykernel)",
   "language": "python",
   "name": "python3"
  },
  "language_info": {
   "codemirror_mode": {
    "name": "ipython",
    "version": 3
   },
   "file_extension": ".py",
   "mimetype": "text/x-python",
   "name": "python",
   "nbconvert_exporter": "python",
   "pygments_lexer": "ipython3",
   "version": "3.10.9"
  }
 },
 "nbformat": 4,
 "nbformat_minor": 5
}
