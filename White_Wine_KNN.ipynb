{
 "cells": [
  {
   "cell_type": "code",
   "execution_count": 50,
   "id": "59b3d4ff",
   "metadata": {},
   "outputs": [],
   "source": [
    "from pandas import Series, DataFrame\n",
    "import pandas as pd\n",
    "from patsy import dmatrices\n",
    "import warnings\n",
    "warnings.filterwarnings('ignore')\n",
    "%matplotlib inline\n",
    "import matplotlib.pyplot as plt\n",
    "import numpy as np\n",
    "import seaborn as sns\n",
    "from sklearn.model_selection import train_test_split\n",
    "from sklearn.neighbors import KNeighborsClassifier"
   ]
  },
  {
   "cell_type": "code",
   "execution_count": 44,
   "id": "e998565c",
   "metadata": {},
   "outputs": [
    {
     "name": "stdout",
     "output_type": "stream",
     "text": [
      "7632\n"
     ]
    }
   ],
   "source": [
    "white_wine = pd.read_csv('WhiteWineSampleData.csv')\n",
    "white_wine.dropna()\n",
    "\n",
    "rename_columns = {\n",
    "    'fixed acidity': 'fixed_acidity',\n",
    "    'volatile acidity': 'volatile_acidity',\n",
    "    'citric acid': 'citric_acid',\n",
    "    'residual sugar': 'residual_sugar',\n",
    "    'chlorides': 'chlorides',\n",
    "    'free sulfur dioxide': 'free_sulfur_dioxide',\n",
    "    'total sulfur dioxide': 'total_sulfur_dioxide',\n",
    "    'density': 'density',\n",
    "    'pH': 'pH',\n",
    "    'sulphates': 'sulphates',\n",
    "    'alcohol': 'alcohol'\n",
    "}\n",
    "\n",
    "white_wine = white_wine.rename(columns=rename_columns)\n",
    "\n",
    "print(len(white_wine))"
   ]
  },
  {
   "cell_type": "code",
   "execution_count": 45,
   "id": "8efe2210",
   "metadata": {},
   "outputs": [
    {
     "data": {
      "text/plain": [
       "0    3816\n",
       "1    3816\n",
       "Name: target, dtype: int64"
      ]
     },
     "execution_count": 45,
     "metadata": {},
     "output_type": "execute_result"
    }
   ],
   "source": [
    "white_wine['target'] = 0.0\n",
    "\n",
    "white_wine['target'] = (white_wine['quality'] >= 1).astype(int)\n",
    "white_wine['target'].value_counts()"
   ]
  },
  {
   "cell_type": "code",
   "execution_count": 46,
   "id": "296eafb9",
   "metadata": {},
   "outputs": [
    {
     "name": "stdout",
     "output_type": "stream",
     "text": [
      "Design matrix X\n",
      "   fixed_acidity  volatile_acidity  citric_acid  residual_sugar  chlorides  \\\n",
      "0            7.0              0.27         0.36            20.7      0.045   \n",
      "1            6.3              0.30         0.34             1.6      0.049   \n",
      "2            8.1              0.28         0.40             6.9      0.050   \n",
      "3            7.2              0.23         0.32             8.5      0.058   \n",
      "4            7.2              0.23         0.32             8.5      0.058   \n",
      "\n",
      "   free_sulfur_dioxide  total_sulfur_dioxide  density    pH  sulphates  \\\n",
      "0                 45.0                 170.0   1.0010  3.00       0.45   \n",
      "1                 14.0                 132.0   0.9940  3.30       0.49   \n",
      "2                 30.0                  97.0   0.9951  3.26       0.44   \n",
      "3                 47.0                 186.0   0.9956  3.19       0.40   \n",
      "4                 47.0                 186.0   0.9956  3.19       0.40   \n",
      "\n",
      "   alcohol  \n",
      "0      8.8  \n",
      "1      9.5  \n",
      "2     10.1  \n",
      "3      9.9  \n",
      "4      9.9  \n",
      "Outcomes Y\n",
      "   target\n",
      "0     0.0\n",
      "1     0.0\n",
      "2     0.0\n",
      "3     0.0\n",
      "4     0.0\n"
     ]
    }
   ],
   "source": [
    "Y, X = dmatrices('target ~ 0 + fixed_acidity + volatile_acidity + citric_acid'\n",
    "       '+ residual_sugar + chlorides + free_sulfur_dioxide'\n",
    "       '+ total_sulfur_dioxide + density + pH + sulphates+ alcohol',\n",
    "                 white_wine,return_type=\"dataframe\")\n",
    "\n",
    "print('Design matrix X')\n",
    "print(X[:5])\n",
    "print('Outcomes Y')\n",
    "print(Y[:5])"
   ]
  },
  {
   "cell_type": "code",
   "execution_count": 47,
   "id": "277bd67e",
   "metadata": {},
   "outputs": [
    {
     "name": "stdout",
     "output_type": "stream",
     "text": [
      "[0. 0. 0. ... 1. 1. 1.]\n",
      "Predictions = [0. 0. 0. 1. 0.]\n"
     ]
    },
    {
     "data": {
      "text/plain": [
       "array([[0.6, 0.4],\n",
       "       [0.7, 0.3],\n",
       "       [0.9, 0.1],\n",
       "       [0.4, 0.6],\n",
       "       [0.8, 0.2]])"
      ]
     },
     "execution_count": 47,
     "metadata": {},
     "output_type": "execute_result"
    }
   ],
   "source": [
    "y = Y['target'].values\n",
    "print(y[5:])\n",
    "X_train, X_test, y_train, y_test = train_test_split(X, y, test_size=0.3, random_state=1)\n",
    "\n",
    "y_train[:5]\n",
    "white_model = neighbors.KNeighborsClassifier(n_neighbors=10,\n",
    "                                       weights='uniform',\n",
    "                                       p=2)\n",
    "\n",
    "white_model.fit(X_train, y_train)\n",
    "X_train.iloc[0:5]\n",
    "print('Predictions =', white_model.predict(X_train.iloc[0:5]))\n",
    "y_train[0:5]\n",
    "white_model.predict_proba(X_train.iloc[0:5])\n"
   ]
  },
  {
   "cell_type": "code",
   "execution_count": 24,
   "id": "99dd0536",
   "metadata": {},
   "outputs": [
    {
     "name": "stdout",
     "output_type": "stream",
     "text": [
      "Training accuracy score:  0.8285286409584426\n",
      "Test accuracy score:  0.780349344978166\n"
     ]
    }
   ],
   "source": [
    "prediction_on_training = white_model.predict(X_train)\n",
    "print(\"Training accuracy score: \", metrics.accuracy_score(y_train, prediction_on_training))\n",
    "\n",
    "predicted_classes = white_model.predict(X_test)\n",
    "print(\"Test accuracy score: \", metrics.accuracy_score(y_test, predicted_classes))"
   ]
  },
  {
   "cell_type": "code",
   "execution_count": 26,
   "id": "4fb33012",
   "metadata": {},
   "outputs": [
    {
     "data": {
      "text/plain": [
       "array([0., 0., 0., 1., 0.])"
      ]
     },
     "execution_count": 26,
     "metadata": {},
     "output_type": "execute_result"
    }
   ],
   "source": [
    "white_model.predict_proba(X_train.iloc[0:5])\n",
    "#get scores\n",
    "\n",
    "white_model.predict(X_train.iloc[0:5])\n",
    "#get classes"
   ]
  },
  {
   "cell_type": "code",
   "execution_count": 39,
   "id": "0106b5fa",
   "metadata": {},
   "outputs": [
    {
     "name": "stdout",
     "output_type": "stream",
     "text": [
      "[1, 5, 10, 15, 20, 25, 30, 35, 40, 45, 50, 55, 60, 65, 70, 75, 80, 85, 90, 95]\n"
     ]
    }
   ],
   "source": [
    "from sklearn import model_selection\n",
    "\n",
    "def cv_accuracy_score(X, y, nn):\n",
    "    white_model = neighbors.KNeighborsClassifier(n_neighbors=nn,\n",
    "                                           weights='uniform')\n",
    "    accuracies = []\n",
    "    \n",
    "    kfold = model_selection.StratifiedKFold(n_splits=3, shuffle=True).split(X, y)\n",
    "    for train, holdout in kfold:\n",
    "        X_train = X.iloc[train]\n",
    "        X_holdout = X.iloc[holdout]\n",
    "        y_train = y[train]\n",
    "        y_holdout = y[holdout]\n",
    "        white_model.fit(X_train, y_train)\n",
    "        accuracy = metrics.accuracy_score(y_holdout, white_model.predict(X_holdout))\n",
    "        accuracies.append(accuracy)\n",
    "    \n",
    "    average_accuracy = Series(accuracies).mean()\n",
    "    return average_accuracy\n",
    "\n",
    "cv_accuracy_score(X, y, nn=1)\n",
    "nn = [1] + [(x + 1) * 5 for x in range(19)]\n",
    "print(nn)"
   ]
  },
  {
   "cell_type": "code",
   "execution_count": 40,
   "id": "305adc8f",
   "metadata": {},
   "outputs": [],
   "source": [
    "scores = [cv_accuracy_score(X, y, num_nbrs) for num_nbrs in nn]"
   ]
  },
  {
   "cell_type": "code",
   "execution_count": 41,
   "id": "58c2f0ab",
   "metadata": {},
   "outputs": [
    {
     "data": {
      "text/plain": [
       "Text(0, 0.5, 'Accuracy of classifier')"
      ]
     },
     "execution_count": 41,
     "metadata": {},
     "output_type": "execute_result"
    },
    {
     "data": {
      "image/png": "[encoded data removed]",
      "text/plain": [
       "<Figure size 640x480 with 1 Axes>"
      ]
     },
     "metadata": {},
     "output_type": "display_data"
    }
   ],
   "source": [
    "plot(nn, scores)\n",
    "xlabel('Number of nearest neighbors')\n",
    "ylabel('Accuracy of classifier')"
   ]
  }
 ],
 "metadata": {
  "kernelspec": {
   "display_name": "Python 3 (ipykernel)",
   "language": "python",
   "name": "python3"
  },
  "language_info": {
   "codemirror_mode": {
    "name": "ipython",
    "version": 3
   },
   "file_extension": ".py",
   "mimetype": "text/x-python",
   "name": "python",
   "nbconvert_exporter": "python",
   "pygments_lexer": "ipython3",
   "version": "3.10.9"
  }
 },
 "nbformat": 4,
 "nbformat_minor": 5
}
